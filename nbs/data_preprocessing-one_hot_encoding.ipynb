{
 "cells": [
  {
   "cell_type": "markdown",
   "id": "55c34201-28f6-4202-b2a3-68e340121fc0",
   "metadata": {},
   "source": [
    "Objective: modify the data used for BERT encoding to one-hot encoded data\n",
    "\n",
    "1. Role\n",
    "2. Talking\n",
    "3. Seating position"
   ]
  },
  {
   "cell_type": "code",
   "execution_count": 1,
   "id": "0d3b4d6b-e092-40a8-96f3-668a036e7267",
   "metadata": {},
   "outputs": [
    {
     "name": "stdout",
     "output_type": "stream",
     "text": [
      "/c/Users/990924\n"
     ]
    }
   ],
   "source": [
    "!pwd"
   ]
  },
  {
   "cell_type": "code",
   "execution_count": 2,
   "id": "94d040c4-d67c-4cf7-b6f6-7768e1625387",
   "metadata": {},
   "outputs": [],
   "source": [
    "DATASET_DIR = \"C:/Users/990924/OneDrive/code/GNN_TGN_V3/data/DataV3\""
   ]
  },
  {
   "cell_type": "code",
   "execution_count": 3,
   "id": "76ca25d1-fca4-4602-b27c-b7af25f4298c",
   "metadata": {},
   "outputs": [
    {
     "name": "stdout",
     "output_type": "stream",
     "text": [
      "/c/Users/990924/OneDrive/code/GNN_TGN_V3/data/DataV3\n"
     ]
    }
   ],
   "source": [
    "import os\n",
    "os.chdir(DATASET_DIR)\n",
    "!pwd"
   ]
  },
  {
   "cell_type": "code",
   "execution_count": null,
   "id": "004b6e71-800f-4c3d-8fb3-4618d51b0a0f",
   "metadata": {},
   "outputs": [],
   "source": [
    "import numpy as np\n",
    "import pandas as pd\n",
    "# from tqdm import tqdm_notebook as tqdm\n",
    "from sklearn.preprocessing import OneHotEncoder\n",
    "\n",
    "from _date_prep_onehot import *"
   ]
  },
  {
   "cell_type": "code",
   "execution_count": 176,
   "id": "2930b949-c325-4b06-8972-7c468e6af7d3",
   "metadata": {},
   "outputs": [],
   "source": [
    "# one hot encoding\n",
    "ROLES = ['student', 'teacher', 'musician', 'music teacher']\n",
    "POSITION = ['nearby', 'away from', 'opposite to']"
   ]
  },
  {
   "cell_type": "code",
   "execution_count": null,
   "id": "44e30533-57ca-4380-b210-e3bc6aaf993f",
   "metadata": {},
   "outputs": [],
   "source": []
  },
  {
   "cell_type": "code",
   "execution_count": 149,
   "id": "ae35044e-ea9a-41cf-8d18-38d51c938e52",
   "metadata": {},
   "outputs": [],
   "source": [
    "def itemize_df(session_df):\n",
    "    session_df = _role_str2list(session_df)\n",
    "    session_df = _talking_str2list(session_df)\n",
    "    session_df = _position_str2list(session_df)\n",
    "\n",
    "    session_df = _rename_df(session_df)\n",
    "\n",
    "    return session_df"
   ]
  },
  {
   "cell_type": "code",
   "execution_count": 153,
   "id": "cc5d988a-77a3-447c-b71d-cd59cf46d6e4",
   "metadata": {},
   "outputs": [],
   "source": [
    "def onehot_t1(session_df):\n",
    "    session_df = session_df.drop(['angle_w'], axis=1) # drop unused cols\n",
    "\n",
    "    role_enc = OneHotEncoder(categories=[ROLES])\n",
    "    pos_enc = OneHotEncoder(categories=[POSITION])\n",
    "    \n",
    "    aa = role_enc.fit_transform(session_df[['src_type']]).toarray()\n",
    "    aa = pd.DataFrame(aa, columns=[f'src_type-{x}'for x in range(aa.shape[1])])\n",
    "    bb = role_enc.fit_transform(session_df[['dst_type']]).toarray()\n",
    "    bb = pd.DataFrame(bb, columns=[f'dst_type-{x}'for x in range(bb.shape[1])])\n",
    "    cc = pos_enc.fit_transform(session_df[['position_type']]).toarray()\n",
    "    cc = pd.DataFrame(cc, columns=[f'position_type-{x}'for x in range(cc.shape[1])])\n",
    "\n",
    "    # drop converted cols\n",
    "    session_df = session_df.drop(['src_type', 'dst_type', 'position_type'], axis=1)\n",
    "\n",
    "    session_df = pd.concat([session_df, aa, bb, cc], axis=1)\n",
    "    session_df = _talking_enc_t1(session_df)\n",
    "    \n",
    "    return session_df"
   ]
  },
  {
   "cell_type": "code",
   "execution_count": null,
   "id": "948776f8-d27b-47f8-a564-e8e2b55f878a",
   "metadata": {},
   "outputs": [],
   "source": []
  },
  {
   "cell_type": "code",
   "execution_count": 148,
   "id": "c434b859-b0ae-4c15-874a-942b263f2b98",
   "metadata": {},
   "outputs": [
    {
     "data": {
      "text/plain": [
       "['L1_D1_20220621_PM',\n",
       " 'L1_D1_20220626_AM',\n",
       " 'L1_D1_20220626_PM',\n",
       " 'L1_D3_20220626_AM',\n",
       " 'L1_D3_20220626_PM',\n",
       " 'L2_D2_20220620_PM',\n",
       " 'L2_D2_20220622_PM',\n",
       " 'L2_D2_20220624_PM',\n",
       " 'L2_D4_20220622_PM',\n",
       " 'L2_D4_20220624_PM',\n",
       " 'L3_D5_20220619_AM',\n",
       " 'L3_D5_20220619_PM',\n",
       " 'L3_D5_20220623_PM',\n",
       " 'L3_D7_20220619_AM',\n",
       " 'L3_D7_20220619_PM',\n",
       " 'L3_D7_20220623_PM',\n",
       " 'L4_D6_20220627_PM',\n",
       " 'L4_D6_20220630_PM',\n",
       " 'L4_D8_20220627_PM',\n",
       " 'L4_D8_20220629_PM',\n",
       " 'L4_D8_20220630_PM']"
      ]
     },
     "execution_count": 148,
     "metadata": {},
     "output_type": "execute_result"
    }
   ],
   "source": [
    "session_dirs = [x for x in os.listdir(\".\") if \"_D\" in x]\n",
    "session_dirs"
   ]
  },
  {
   "cell_type": "code",
   "execution_count": 159,
   "id": "fa6f2a20-85c3-4659-aec9-4333d41dc91c",
   "metadata": {},
   "outputs": [
    {
     "name": "stdout",
     "output_type": "stream",
     "text": [
      "#0: L1_D1_20220621_PM\n",
      "#1: L1_D1_20220626_AM\n",
      "#2: L1_D1_20220626_PM\n",
      "#3: L1_D3_20220626_AM\n",
      "#4: L1_D3_20220626_PM\n",
      "#5: L2_D2_20220620_PM\n",
      "#6: L2_D2_20220622_PM\n",
      "#7: L2_D2_20220624_PM\n",
      "#8: L2_D4_20220622_PM\n",
      "#9: L2_D4_20220624_PM\n",
      "#10: L3_D5_20220619_AM\n",
      "#11: L3_D5_20220619_PM\n",
      "#12: L3_D5_20220623_PM\n",
      "#13: L3_D7_20220619_AM\n",
      "#14: L3_D7_20220619_PM\n",
      "#15: L3_D7_20220623_PM\n",
      "#16: L4_D6_20220627_PM\n",
      "#17: L4_D6_20220630_PM\n",
      "#18: L4_D8_20220627_PM\n",
      "#19: L4_D8_20220629_PM\n",
      "#20: L4_D8_20220630_PM\n"
     ]
    },
    {
     "data": {
      "text/html": [
       "<div>\n",
       "<style scoped>\n",
       "    .dataframe tbody tr th:only-of-type {\n",
       "        vertical-align: middle;\n",
       "    }\n",
       "\n",
       "    .dataframe tbody tr th {\n",
       "        vertical-align: top;\n",
       "    }\n",
       "\n",
       "    .dataframe thead th {\n",
       "        text-align: right;\n",
       "    }\n",
       "</style>\n",
       "<table border=\"1\" class=\"dataframe\">\n",
       "  <thead>\n",
       "    <tr style=\"text-align: right;\">\n",
       "      <th></th>\n",
       "      <th>recording</th>\n",
       "      <th>second</th>\n",
       "      <th>src_id</th>\n",
       "      <th>dst_id</th>\n",
       "      <th>speakers</th>\n",
       "      <th>src_type-0</th>\n",
       "      <th>src_type-1</th>\n",
       "      <th>src_type-2</th>\n",
       "      <th>src_type-3</th>\n",
       "      <th>dst_type-0</th>\n",
       "      <th>dst_type-1</th>\n",
       "      <th>dst_type-2</th>\n",
       "      <th>dst_type-3</th>\n",
       "      <th>position_type-0</th>\n",
       "      <th>position_type-1</th>\n",
       "      <th>position_type-2</th>\n",
       "      <th>src_talking_status</th>\n",
       "      <th>dst_talking_status</th>\n",
       "      <th>others_talking_status</th>\n",
       "    </tr>\n",
       "  </thead>\n",
       "  <tbody>\n",
       "    <tr>\n",
       "      <th>0</th>\n",
       "      <td>L4_D8_20220630_PM</td>\n",
       "      <td>0.36</td>\n",
       "      <td>1</td>\n",
       "      <td>10</td>\n",
       "      <td>[1, 0]</td>\n",
       "      <td>1.0</td>\n",
       "      <td>0.0</td>\n",
       "      <td>0.0</td>\n",
       "      <td>0.0</td>\n",
       "      <td>0.0</td>\n",
       "      <td>1.0</td>\n",
       "      <td>0.0</td>\n",
       "      <td>0.0</td>\n",
       "      <td>1.0</td>\n",
       "      <td>0.0</td>\n",
       "      <td>0.0</td>\n",
       "      <td>1</td>\n",
       "      <td>0</td>\n",
       "      <td>1</td>\n",
       "    </tr>\n",
       "    <tr>\n",
       "      <th>1</th>\n",
       "      <td>L4_D8_20220630_PM</td>\n",
       "      <td>0.37</td>\n",
       "      <td>1</td>\n",
       "      <td>10</td>\n",
       "      <td>[1, 0]</td>\n",
       "      <td>1.0</td>\n",
       "      <td>0.0</td>\n",
       "      <td>0.0</td>\n",
       "      <td>0.0</td>\n",
       "      <td>0.0</td>\n",
       "      <td>1.0</td>\n",
       "      <td>0.0</td>\n",
       "      <td>0.0</td>\n",
       "      <td>1.0</td>\n",
       "      <td>0.0</td>\n",
       "      <td>0.0</td>\n",
       "      <td>1</td>\n",
       "      <td>0</td>\n",
       "      <td>1</td>\n",
       "    </tr>\n",
       "    <tr>\n",
       "      <th>2</th>\n",
       "      <td>L4_D8_20220630_PM</td>\n",
       "      <td>0.38</td>\n",
       "      <td>1</td>\n",
       "      <td>10</td>\n",
       "      <td>[1, 0]</td>\n",
       "      <td>1.0</td>\n",
       "      <td>0.0</td>\n",
       "      <td>0.0</td>\n",
       "      <td>0.0</td>\n",
       "      <td>0.0</td>\n",
       "      <td>1.0</td>\n",
       "      <td>0.0</td>\n",
       "      <td>0.0</td>\n",
       "      <td>1.0</td>\n",
       "      <td>0.0</td>\n",
       "      <td>0.0</td>\n",
       "      <td>1</td>\n",
       "      <td>0</td>\n",
       "      <td>1</td>\n",
       "    </tr>\n",
       "    <tr>\n",
       "      <th>3</th>\n",
       "      <td>L4_D8_20220630_PM</td>\n",
       "      <td>0.64</td>\n",
       "      <td>1</td>\n",
       "      <td>10</td>\n",
       "      <td>[]</td>\n",
       "      <td>1.0</td>\n",
       "      <td>0.0</td>\n",
       "      <td>0.0</td>\n",
       "      <td>0.0</td>\n",
       "      <td>0.0</td>\n",
       "      <td>1.0</td>\n",
       "      <td>0.0</td>\n",
       "      <td>0.0</td>\n",
       "      <td>1.0</td>\n",
       "      <td>0.0</td>\n",
       "      <td>0.0</td>\n",
       "      <td>0</td>\n",
       "      <td>0</td>\n",
       "      <td>0</td>\n",
       "    </tr>\n",
       "    <tr>\n",
       "      <th>4</th>\n",
       "      <td>L4_D8_20220630_PM</td>\n",
       "      <td>1.65</td>\n",
       "      <td>1</td>\n",
       "      <td>10</td>\n",
       "      <td>[]</td>\n",
       "      <td>1.0</td>\n",
       "      <td>0.0</td>\n",
       "      <td>0.0</td>\n",
       "      <td>0.0</td>\n",
       "      <td>0.0</td>\n",
       "      <td>1.0</td>\n",
       "      <td>0.0</td>\n",
       "      <td>0.0</td>\n",
       "      <td>1.0</td>\n",
       "      <td>0.0</td>\n",
       "      <td>0.0</td>\n",
       "      <td>0</td>\n",
       "      <td>0</td>\n",
       "      <td>0</td>\n",
       "    </tr>\n",
       "  </tbody>\n",
       "</table>\n",
       "</div>"
      ],
      "text/plain": [
       "           recording  second  src_id  dst_id speakers  src_type-0  src_type-1  \\\n",
       "0  L4_D8_20220630_PM    0.36       1      10   [1, 0]         1.0         0.0   \n",
       "1  L4_D8_20220630_PM    0.37       1      10   [1, 0]         1.0         0.0   \n",
       "2  L4_D8_20220630_PM    0.38       1      10   [1, 0]         1.0         0.0   \n",
       "3  L4_D8_20220630_PM    0.64       1      10       []         1.0         0.0   \n",
       "4  L4_D8_20220630_PM    1.65       1      10       []         1.0         0.0   \n",
       "\n",
       "   src_type-2  src_type-3  dst_type-0  dst_type-1  dst_type-2  dst_type-3  \\\n",
       "0         0.0         0.0         0.0         1.0         0.0         0.0   \n",
       "1         0.0         0.0         0.0         1.0         0.0         0.0   \n",
       "2         0.0         0.0         0.0         1.0         0.0         0.0   \n",
       "3         0.0         0.0         0.0         1.0         0.0         0.0   \n",
       "4         0.0         0.0         0.0         1.0         0.0         0.0   \n",
       "\n",
       "   position_type-0  position_type-1  position_type-2  src_talking_status  \\\n",
       "0              1.0              0.0              0.0                   1   \n",
       "1              1.0              0.0              0.0                   1   \n",
       "2              1.0              0.0              0.0                   1   \n",
       "3              1.0              0.0              0.0                   0   \n",
       "4              1.0              0.0              0.0                   0   \n",
       "\n",
       "   dst_talking_status  others_talking_status  \n",
       "0                   0                      1  \n",
       "1                   0                      1  \n",
       "2                   0                      1  \n",
       "3                   0                      0  \n",
       "4                   0                      0  "
      ]
     },
     "execution_count": 159,
     "metadata": {},
     "output_type": "execute_result"
    }
   ],
   "source": [
    "for sidx, session_dir in enumerate(session_dirs):\n",
    "    print(f\"#{sidx}: {session_dir}\")\n",
    "    raw_dir = os.path.join(session_dir, \"feat-desc_non-negative\", \"raw\")\n",
    "    csv_path = os.path.join(raw_dir, \"feat-desc_non-negative.csv\")\n",
    "    df = pd.read_csv(csv_path)\n",
    "\n",
    "    df = itemize_df(df)\n",
    "    itemized_csv = os.path.join(raw_dir, \"feat-desc_non-negative-itemized.csv\")\n",
    "    # save itemized\n",
    "    df.to_csv(itemized_csv, index=False)\n",
    "    \n",
    "    df = onehot_t1(df)\n",
    "    onehot_t1_csv = os.path.join(raw_dir, \"feat-desc_non-negative-onehot_t1.csv\")\n",
    "    # save onehot encoded\n",
    "    df.to_csv(onehot_t1_csv, index=False)\n",
    "\n",
    "df.head()"
   ]
  },
  {
   "cell_type": "code",
   "execution_count": null,
   "id": "c89f7efc-5124-41d8-a43d-6962ac258289",
   "metadata": {},
   "outputs": [],
   "source": []
  },
  {
   "cell_type": "code",
   "execution_count": null,
   "id": "6863c280-2669-4a65-9823-cca8f1d9b420",
   "metadata": {},
   "outputs": [],
   "source": []
  },
  {
   "cell_type": "code",
   "execution_count": null,
   "id": "a91722a5-8e6f-4da5-9986-145443908105",
   "metadata": {},
   "outputs": [],
   "source": []
  },
  {
   "cell_type": "markdown",
   "id": "1a39d8bd-8202-4897-9c9d-1ffa1c8e5606",
   "metadata": {
    "jp-MarkdownHeadingCollapsed": true
   },
   "source": [
    "# Archit"
   ]
  },
  {
   "cell_type": "markdown",
   "id": "c1eee2ff-8dd2-4f57-9e68-eef3a0adc0ee",
   "metadata": {},
   "source": [
    "- `preProcess.py`: generate torch datatype through `MyOwnDataset` from `dataset_new_features.py`\n",
    "- `dataset_new_features.py`: define `MyOwnDataset`, raw message generation in `self.process()`"
   ]
  },
  {
   "cell_type": "code",
   "execution_count": null,
   "id": "dc23e02c-b7f3-4ffc-aad2-351e7112aba1",
   "metadata": {},
   "outputs": [],
   "source": []
  },
  {
   "cell_type": "code",
   "execution_count": null,
   "id": "1a10c868-5984-4d8b-9bbe-6ab9dadf1a69",
   "metadata": {},
   "outputs": [],
   "source": []
  },
  {
   "cell_type": "code",
   "execution_count": null,
   "id": "592b606f-c8d8-43db-93f7-27314d738cf5",
   "metadata": {},
   "outputs": [],
   "source": []
  },
  {
   "cell_type": "code",
   "execution_count": null,
   "id": "d91ae334-b8d2-4a74-80cb-7804b5f4a80d",
   "metadata": {},
   "outputs": [],
   "source": []
  },
  {
   "cell_type": "code",
   "execution_count": null,
   "id": "c3f96f49-84a2-46b3-adbf-4c9761c81f25",
   "metadata": {},
   "outputs": [],
   "source": []
  },
  {
   "cell_type": "code",
   "execution_count": null,
   "id": "881056c5-42ab-44ad-ba3d-f740f1ab3901",
   "metadata": {},
   "outputs": [],
   "source": []
  },
  {
   "cell_type": "code",
   "execution_count": null,
   "id": "df19e3c8-6174-4855-a2ed-70bd288642df",
   "metadata": {},
   "outputs": [],
   "source": []
  },
  {
   "cell_type": "code",
   "execution_count": null,
   "id": "bc0dbc3b-80d8-4df3-90b3-df929366c3e9",
   "metadata": {},
   "outputs": [],
   "source": []
  },
  {
   "cell_type": "code",
   "execution_count": null,
   "id": "6925b903-f6f3-4b0c-a80c-b72c54a38a52",
   "metadata": {},
   "outputs": [],
   "source": []
  },
  {
   "cell_type": "code",
   "execution_count": null,
   "id": "a94d16ac-045c-4300-a43e-640305cf82a6",
   "metadata": {},
   "outputs": [],
   "source": []
  },
  {
   "cell_type": "code",
   "execution_count": null,
   "id": "41d7d08f-99cd-463f-afa9-677cc70ec080",
   "metadata": {},
   "outputs": [],
   "source": []
  }
 ],
 "metadata": {
  "kernelspec": {
   "display_name": "Python 3 (ipykernel)",
   "language": "python",
   "name": "python3"
  },
  "language_info": {
   "codemirror_mode": {
    "name": "ipython",
    "version": 3
   },
   "file_extension": ".py",
   "mimetype": "text/x-python",
   "name": "python",
   "nbconvert_exporter": "python",
   "pygments_lexer": "ipython3",
   "version": "3.9.18"
  }
 },
 "nbformat": 4,
 "nbformat_minor": 5
}
