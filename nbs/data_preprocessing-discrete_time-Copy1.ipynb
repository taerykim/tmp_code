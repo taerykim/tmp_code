{
 "cells": [
  {
   "cell_type": "markdown",
   "id": "55c34201-28f6-4202-b2a3-68e340121fc0",
   "metadata": {},
   "source": [
    "Objective: modify the time+event-wise data to time-wise data\n",
    "\n",
    "Represent the graph for each timestep (1 Hz)"
   ]
  },
  {
   "cell_type": "code",
   "execution_count": 1,
   "id": "0d3b4d6b-e092-40a8-96f3-668a036e7267",
   "metadata": {},
   "outputs": [
    {
     "name": "stdout",
     "output_type": "stream",
     "text": [
      "/c/Users/990924/OneDrive/code/nbs\n"
     ]
    }
   ],
   "source": [
    "!pwd"
   ]
  },
  {
   "cell_type": "code",
   "execution_count": 3,
   "id": "76ca25d1-fca4-4602-b27c-b7af25f4298c",
   "metadata": {},
   "outputs": [
    {
     "name": "stdout",
     "output_type": "stream",
     "text": [
      "/c/Users/990924/OneDrive/code/GNN_TGN_V3/data/DataV3\n"
     ]
    }
   ],
   "source": [
    "import os\n",
    "os.chdir(DATASET_DIR)\n",
    "!pwd"
   ]
  },
  {
   "cell_type": "code",
   "execution_count": 18,
   "id": "004b6e71-800f-4c3d-8fb3-4618d51b0a0f",
   "metadata": {},
   "outputs": [],
   "source": [
    "import numpy as np\n",
    "import pandas as pd"
   ]
  },
  {
   "cell_type": "code",
   "execution_count": 29,
   "id": "94d040c4-d67c-4cf7-b6f6-7768e1625387",
   "metadata": {},
   "outputs": [],
   "source": [
    "DATASET_DIR = \"C:/Users/990924/OneDrive/code/GNN_TGN_V3/data/DataV3\""
   ]
  },
  {
   "cell_type": "code",
   "execution_count": 5,
   "id": "c434b859-b0ae-4c15-874a-942b263f2b98",
   "metadata": {},
   "outputs": [
    {
     "data": {
      "text/plain": [
       "['L1_D1_20220621_PM',\n",
       " 'L1_D1_20220626_AM',\n",
       " 'L1_D1_20220626_PM',\n",
       " 'L1_D3_20220626_AM',\n",
       " 'L1_D3_20220626_PM',\n",
       " 'L2_D2_20220620_PM',\n",
       " 'L2_D2_20220622_PM',\n",
       " 'L2_D2_20220624_PM',\n",
       " 'L2_D4_20220622_PM',\n",
       " 'L2_D4_20220624_PM',\n",
       " 'L3_D5_20220619_AM',\n",
       " 'L3_D5_20220619_PM',\n",
       " 'L3_D5_20220623_PM',\n",
       " 'L3_D7_20220619_AM',\n",
       " 'L3_D7_20220619_PM',\n",
       " 'L3_D7_20220623_PM',\n",
       " 'L4_D6_20220627_PM',\n",
       " 'L4_D6_20220630_PM',\n",
       " 'L4_D8_20220627_PM',\n",
       " 'L4_D8_20220629_PM',\n",
       " 'L4_D8_20220630_PM']"
      ]
     },
     "execution_count": 5,
     "metadata": {},
     "output_type": "execute_result"
    }
   ],
   "source": [
    "session_dirs = [x for x in os.listdir(\".\") if \"_D\" in x]\n",
    "session_dirs"
   ]
  },
  {
   "cell_type": "code",
   "execution_count": 6,
   "id": "521c766f-d168-49aa-a914-4fcc0046d287",
   "metadata": {},
   "outputs": [],
   "source": [
    "for session_dir in session_dirs[:1]:\n",
    "    raw_dir = os.path.join(session_dir, \"feat-desc_non-negative\", \"raw\")\n",
    "    csv_path = os.path.join(raw_dir, os.listdir(raw_dir)[0])\n",
    "    df = pd.read_csv(csv_path)"
   ]
  }
 ],
 "metadata": {
  "kernelspec": {
   "display_name": "Python 3 (ipykernel)",
   "language": "python",
   "name": "python3"
  },
  "language_info": {
   "codemirror_mode": {
    "name": "ipython",
    "version": 3
   },
   "file_extension": ".py",
   "mimetype": "text/x-python",
   "name": "python",
   "nbconvert_exporter": "python",
   "pygments_lexer": "ipython3",
   "version": "3.9.18"
  }
 },
 "nbformat": 4,
 "nbformat_minor": 5
}
